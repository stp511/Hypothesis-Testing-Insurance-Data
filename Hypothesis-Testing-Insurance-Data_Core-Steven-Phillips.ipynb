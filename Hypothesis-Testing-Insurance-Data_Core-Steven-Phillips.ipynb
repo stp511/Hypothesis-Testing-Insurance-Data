{
 "cells": [
  {
   "cell_type": "markdown",
   "id": "ab7b63b4",
   "metadata": {},
   "source": [
    "# Hypothesis Testing - Insurance Data (Core)\n",
    "- Steven Phillips\n",
    "- January 12, 2023"
   ]
  },
  {
   "cell_type": "markdown",
   "id": "ae490fbb",
   "metadata": {},
   "source": [
    "## Using the US Health Insurance Data and Hypthosesis Testing answer the following:\n",
    "- Q1. Do smokers have higher insurance charges than non-smokers?\n",
    "- Q2. Are men more likely to smoke than women?\n",
    "- Q3. Do different regions have different charges, on average?\n",
    "\n",
    "For each question:\n",
    "\n",
    "- 1. State your Null Hypothesis and Alternative Hypothesis\n",
    "- 2. Select the correct test according to the data type and number of samples\n",
    "- 3. Test the assumptions of your selected test.\n",
    "- 4. Execute the selected test, or the alternative test (if you do not meet the assumptions)\n",
    "- 5. Interpret your p-value and reject or fail to reject your null hypothesis \n",
    "- 6. Show a supporting visualization that helps display the result"
   ]
  },
  {
   "cell_type": "markdown",
   "id": "e1993350",
   "metadata": {},
   "source": [
    "### Imports and load in the data set\n",
    "\n",
    "- US Health Insurance Dataset from Kaggle [https://www.kaggle.com/datasets/teertha/ushealthinsurancedataset]"
   ]
  },
  {
   "cell_type": "code",
   "execution_count": 1,
   "id": "ac1aba82",
   "metadata": {},
   "outputs": [],
   "source": [
    "# imports\n",
    "import pandas as pd\n",
    "import numpy as np\n",
    "import matplotlib.pyplot as plt\n",
    "import seaborn as sns\n",
    "import scipy.stats as stats"
   ]
  },
  {
   "cell_type": "code",
   "execution_count": 2,
   "id": "7c7ad8e0",
   "metadata": {},
   "outputs": [
    {
     "data": {
      "text/html": [
       "<div>\n",
       "<style scoped>\n",
       "    .dataframe tbody tr th:only-of-type {\n",
       "        vertical-align: middle;\n",
       "    }\n",
       "\n",
       "    .dataframe tbody tr th {\n",
       "        vertical-align: top;\n",
       "    }\n",
       "\n",
       "    .dataframe thead th {\n",
       "        text-align: right;\n",
       "    }\n",
       "</style>\n",
       "<table border=\"1\" class=\"dataframe\">\n",
       "  <thead>\n",
       "    <tr style=\"text-align: right;\">\n",
       "      <th></th>\n",
       "      <th>age</th>\n",
       "      <th>sex</th>\n",
       "      <th>bmi</th>\n",
       "      <th>children</th>\n",
       "      <th>smoker</th>\n",
       "      <th>region</th>\n",
       "      <th>charges</th>\n",
       "    </tr>\n",
       "  </thead>\n",
       "  <tbody>\n",
       "    <tr>\n",
       "      <th>0</th>\n",
       "      <td>19</td>\n",
       "      <td>female</td>\n",
       "      <td>27.900</td>\n",
       "      <td>0</td>\n",
       "      <td>yes</td>\n",
       "      <td>southwest</td>\n",
       "      <td>16884.92400</td>\n",
       "    </tr>\n",
       "    <tr>\n",
       "      <th>1</th>\n",
       "      <td>18</td>\n",
       "      <td>male</td>\n",
       "      <td>33.770</td>\n",
       "      <td>1</td>\n",
       "      <td>no</td>\n",
       "      <td>southeast</td>\n",
       "      <td>1725.55230</td>\n",
       "    </tr>\n",
       "    <tr>\n",
       "      <th>2</th>\n",
       "      <td>28</td>\n",
       "      <td>male</td>\n",
       "      <td>33.000</td>\n",
       "      <td>3</td>\n",
       "      <td>no</td>\n",
       "      <td>southeast</td>\n",
       "      <td>4449.46200</td>\n",
       "    </tr>\n",
       "    <tr>\n",
       "      <th>3</th>\n",
       "      <td>33</td>\n",
       "      <td>male</td>\n",
       "      <td>22.705</td>\n",
       "      <td>0</td>\n",
       "      <td>no</td>\n",
       "      <td>northwest</td>\n",
       "      <td>21984.47061</td>\n",
       "    </tr>\n",
       "    <tr>\n",
       "      <th>4</th>\n",
       "      <td>32</td>\n",
       "      <td>male</td>\n",
       "      <td>28.880</td>\n",
       "      <td>0</td>\n",
       "      <td>no</td>\n",
       "      <td>northwest</td>\n",
       "      <td>3866.85520</td>\n",
       "    </tr>\n",
       "  </tbody>\n",
       "</table>\n",
       "</div>"
      ],
      "text/plain": [
       "   age     sex     bmi  children smoker     region      charges\n",
       "0   19  female  27.900         0    yes  southwest  16884.92400\n",
       "1   18    male  33.770         1     no  southeast   1725.55230\n",
       "2   28    male  33.000         3     no  southeast   4449.46200\n",
       "3   33    male  22.705         0     no  northwest  21984.47061\n",
       "4   32    male  28.880         0     no  northwest   3866.85520"
      ]
     },
     "execution_count": 2,
     "metadata": {},
     "output_type": "execute_result"
    }
   ],
   "source": [
    "# load the data set into a data frame\n",
    "df = pd.read_csv('/Users/steve/Documents/GitHub/Hypothesis-Testing-Insurance-Data/Data/insurance - insurance.csv')\n",
    "df.head()"
   ]
  },
  {
   "cell_type": "markdown",
   "id": "b84adc09",
   "metadata": {},
   "source": [
    "### Q1. Do smokers have higher insurance charges than non-smokers?\n",
    "\n",
    "- This is numeric data, charges, of two groups, smokers and non-smokers. [2-sample t-test independent between groups]"
   ]
  },
  {
   "cell_type": "markdown",
   "id": "a7f2868c",
   "metadata": {},
   "source": [
    "#### 1. State the Null Hypothesis and Alternative Hypothesis\n",
    "\n",
    "**The null hypothesis is that insurance charges are the same for smokers and non-smokers.**\n",
    "\n",
    "**The alternative hypothesis is that smokers have higher insurance charges than non-smokers.**\n",
    "\n"
   ]
  },
  {
   "cell_type": "markdown",
   "id": "17cfca52",
   "metadata": {},
   "source": [
    "#### 2. Select the correct test according to the data type and number of samples\n",
    "\n",
    "The correct test is a 2-sample t-test independent between groups, and it will be one-tailed.  This test will be run at an alpha level of 0.05."
   ]
  },
  {
   "cell_type": "markdown",
   "id": "c2d122f7",
   "metadata": {},
   "source": [
    "##### Prepare to check the assumptions and run the test"
   ]
  },
  {
   "cell_type": "code",
   "execution_count": 3,
   "id": "586dc75c",
   "metadata": {},
   "outputs": [
    {
     "data": {
      "text/plain": [
       "no     1064\n",
       "yes     274\n",
       "Name: smoker, dtype: int64"
      ]
     },
     "execution_count": 3,
     "metadata": {},
     "output_type": "execute_result"
    }
   ],
   "source": [
    "# see how many smokers and non-smokers in the data\n",
    "df['smoker'].value_counts()"
   ]
  },
  {
   "cell_type": "code",
   "execution_count": 4,
   "id": "33dbdbe0",
   "metadata": {},
   "outputs": [],
   "source": [
    "# Filtering out smokers and non-smokers\n",
    "smoker_df = df.loc[df['smoker']== 'yes'].copy()\n",
    "non_smoker_df = df.loc[df['smoker']== 'no'].copy()"
   ]
  },
  {
   "cell_type": "code",
   "execution_count": 5,
   "id": "dfa33593",
   "metadata": {},
   "outputs": [],
   "source": [
    "# define the feature of interest - charges\n",
    "\n",
    "smoker_charges = smoker_df['charges']\n",
    "non_smoker_charges = non_smoker_df['charges']"
   ]
  },
  {
   "cell_type": "code",
   "execution_count": 6,
   "id": "5f64b3ed",
   "metadata": {},
   "outputs": [
    {
     "data": {
      "text/plain": [
       "0     16884.9240\n",
       "11    27808.7251\n",
       "14    39611.7577\n",
       "19    36837.4670\n",
       "23    37701.8768\n",
       "Name: charges, dtype: float64"
      ]
     },
     "execution_count": 6,
     "metadata": {},
     "output_type": "execute_result"
    }
   ],
   "source": [
    "smoker_charges.head()"
   ]
  },
  {
   "cell_type": "code",
   "execution_count": 7,
   "id": "488900e0",
   "metadata": {},
   "outputs": [
    {
     "data": {
      "text/plain": [
       "1     1725.55230\n",
       "2     4449.46200\n",
       "3    21984.47061\n",
       "4     3866.85520\n",
       "5     3756.62160\n",
       "Name: charges, dtype: float64"
      ]
     },
     "execution_count": 7,
     "metadata": {},
     "output_type": "execute_result"
    }
   ],
   "source": [
    "non_smoker_charges.head()"
   ]
  },
  {
   "cell_type": "markdown",
   "id": "711a3c41",
   "metadata": {},
   "source": [
    "#### 3. Test the assumptions of the selected test.\n",
    "- No significant outliers\n",
    "- Normality\n",
    "- Equal Variance"
   ]
  },
  {
   "cell_type": "markdown",
   "id": "a9dbd15f",
   "metadata": {},
   "source": [
    "##### Test for outliers:"
   ]
  },
  {
   "cell_type": "code",
   "execution_count": 8,
   "id": "e47809da",
   "metadata": {},
   "outputs": [
    {
     "data": {
      "text/plain": [
       "0"
      ]
     },
     "execution_count": 8,
     "metadata": {},
     "output_type": "execute_result"
    }
   ],
   "source": [
    "# Check for outliers in charges for smokers group\n",
    "zscores_smokers= stats.zscore(smoker_charges)\n",
    "outliers = abs(zscores_smokers)>3\n",
    "np.sum(outliers)"
   ]
  },
  {
   "cell_type": "code",
   "execution_count": 9,
   "id": "9b6aba15",
   "metadata": {},
   "outputs": [
    {
     "data": {
      "text/plain": [
       "24"
      ]
     },
     "execution_count": 9,
     "metadata": {},
     "output_type": "execute_result"
    }
   ],
   "source": [
    "# check for outliers in charges for non-smoker group\n",
    "zscores_nonsmokers= stats.zscore(non_smoker_charges)\n",
    "outliers = abs(zscores_nonsmokers)>3\n",
    "np.sum(outliers)"
   ]
  },
  {
   "cell_type": "markdown",
   "id": "7ae9bc06",
   "metadata": {},
   "source": [
    "Remove outliers from the non-smokers group."
   ]
  },
  {
   "cell_type": "code",
   "execution_count": 10,
   "id": "5597f496",
   "metadata": {},
   "outputs": [],
   "source": [
    "# remove outliers from strength group\n",
    "non_smoker_charges = non_smoker_charges[(np.abs(stats.zscore(non_smoker_charges)) < 3)]"
   ]
  },
  {
   "cell_type": "markdown",
   "id": "e23fb20a",
   "metadata": {},
   "source": [
    "24 non-smoker charges outliers with z-scores 3 or more removed."
   ]
  },
  {
   "cell_type": "markdown",
   "id": "464617fd",
   "metadata": {},
   "source": [
    "##### Tests for normality:"
   ]
  },
  {
   "cell_type": "code",
   "execution_count": 11,
   "id": "95dac560",
   "metadata": {},
   "outputs": [
    {
     "data": {
      "text/plain": [
       "NormaltestResult(statistic=61.03941356533816, pvalue=5.564930630036463e-14)"
      ]
     },
     "execution_count": 11,
     "metadata": {},
     "output_type": "execute_result"
    }
   ],
   "source": [
    "# test the smoker group for normality\n",
    "result_smoker_charges = stats.normaltest(smoker_charges)\n",
    "result_smoker_charges"
   ]
  },
  {
   "cell_type": "code",
   "execution_count": 12,
   "id": "8e24ca60",
   "metadata": {},
   "outputs": [
    {
     "data": {
      "text/plain": [
       "NormaltestResult(statistic=163.80367047789198, pvalue=2.6945416315543976e-36)"
      ]
     },
     "execution_count": 12,
     "metadata": {},
     "output_type": "execute_result"
    }
   ],
   "source": [
    "# test the non-smoker group for normality\n",
    "result_nonsmoker_charges = stats.normaltest(non_smoker_charges)\n",
    "result_nonsmoker_charges"
   ]
  },
  {
   "cell_type": "markdown",
   "id": "b5bfd7ee",
   "metadata": {},
   "source": [
    "Both Normal Tests resulted in a p-value much smaller than an alpha level of 0.05 which means our data is NOT normally distributed. However, are groups are large enough to continue with the t-test.  Sample sizes of 15 per group are sufficient for a t-test."
   ]
  },
  {
   "cell_type": "markdown",
   "id": "4e1288b7",
   "metadata": {},
   "source": [
    "##### Test for Equal Variance"
   ]
  },
  {
   "cell_type": "code",
   "execution_count": 13,
   "id": "dd938ad3",
   "metadata": {},
   "outputs": [
    {
     "data": {
      "text/plain": [
       "LeveneResult(statistic=520.7468821724297, pvalue=2.4247238784347824e-97)"
      ]
     },
     "execution_count": 13,
     "metadata": {},
     "output_type": "execute_result"
    }
   ],
   "source": [
    "# Levene test for equal variance\n",
    "\n",
    "result_levene = stats.levene(smoker_charges, non_smoker_charges)\n",
    "result_levene"
   ]
  },
  {
   "cell_type": "markdown",
   "id": "1307d3fa",
   "metadata": {},
   "source": [
    "The Levene Equal Variance test is **not** passed and the parameter (equal_var = False) will be included in our t-test."
   ]
  },
  {
   "cell_type": "markdown",
   "id": "0f6b0ea9",
   "metadata": {},
   "source": [
    "#### 4. Execute the selected test, or the alternative test (if you do not meet the assumptions)"
   ]
  },
  {
   "cell_type": "markdown",
   "id": "03d1fb54",
   "metadata": {},
   "source": [
    "Equal Variance Assumption not met and a one-tailed, (equal_var = False)  t-test will be run at the alpha level of 0.05."
   ]
  },
  {
   "cell_type": "code",
   "execution_count": 14,
   "id": "f680c7f7",
   "metadata": {},
   "outputs": [
    {
     "data": {
      "text/plain": [
       "Ttest_indResult(statistic=33.732305987092516, pvalue=1.2876613312937155e-104)"
      ]
     },
     "execution_count": 14,
     "metadata": {},
     "output_type": "execute_result"
    }
   ],
   "source": [
    "## t-test\n",
    "result_Q1 = stats.ttest_ind(smoker_charges, non_smoker_charges, equal_var = False, alternative = 'greater')\n",
    "result_Q1"
   ]
  },
  {
   "cell_type": "code",
   "execution_count": 15,
   "id": "b087a4a5",
   "metadata": {},
   "outputs": [
    {
     "name": "stdout",
     "output_type": "stream",
     "text": [
      "p-value=0.0000000000\n",
      "Significant: True\n"
     ]
    }
   ],
   "source": [
    "## check if our result is significant\n",
    "print(f\"p-value={result_Q1.pvalue:.10f}\")\n",
    "print(f\"Significant: {result_Q1.pvalue <.05}\")"
   ]
  },
  {
   "cell_type": "markdown",
   "id": "8cebe420",
   "metadata": {},
   "source": [
    "The test statistic is 33.73, and the p-value is less than 0.0001."
   ]
  },
  {
   "cell_type": "markdown",
   "id": "e03ef822",
   "metadata": {},
   "source": [
    "#### 5. Interpret your p-value and reject or fail to reject your null hypothesis"
   ]
  },
  {
   "cell_type": "markdown",
   "id": "c38ed3a8",
   "metadata": {},
   "source": [
    "The p-value is extremely small, much less than the alpha of 0.05, and the null hypothesis is rejected. The conclusion is that, with a statistically significant result, the charges of smokers are more than the charges of non-smokers."
   ]
  },
  {
   "cell_type": "markdown",
   "id": "7fdf7078",
   "metadata": {},
   "source": [
    "#### 6. Show a supporting visualization that helps display the result:"
   ]
  },
  {
   "cell_type": "code",
   "execution_count": 16,
   "id": "efed3527",
   "metadata": {},
   "outputs": [
    {
     "data": {
      "image/png": "[encoded data removed]",
      "text/plain": [
       "<Figure size 1000x500 with 2 Axes>"
      ]
     },
     "metadata": {},
     "output_type": "display_data"
    }
   ],
   "source": [
    "smoker_palette={'yes':'dodgerblue', 'no':'salmon'}\n",
    "## Visualizing Sample means\n",
    "fig, (ax,ax_bar) = plt.subplots(figsize= (10,5), ncols=2, \n",
    "                                constrained_layout=True,\n",
    "                                gridspec_kw={'width_ratios':[0.8,0.2]})\n",
    "\n",
    "\n",
    "# Histogram\n",
    "ax = sns.histplot(data=df, x='charges',fill=True,hue='smoker',kde=True,\n",
    "                  stat='density',common_norm=False,ax=ax,\n",
    "                  palette=smoker_palette)\n",
    "\n",
    "ax.axvline(np.mean(smoker_charges), ls='--',lw=3, \n",
    "           label=f\"Smokers (Mean={np.mean(smoker_charges):.2f})\",color=smoker_palette['yes'])\n",
    "\n",
    "ax.axvline(np.mean(non_smoker_charges), ls='--', lw=3, \n",
    "           label=f\"Non-smokers (Mean={np.mean(non_smoker_charges):.2f})\",color=smoker_palette['no'])\n",
    "\n",
    "ax.legend(prop={\"size\":14}, loc='upper right')#bbox_to_anchor=[1,1])\n",
    "## Barplot\n",
    "sns.barplot(data=df, x='smoker',y='charges',ax = ax_bar,palette=smoker_palette)\n",
    "fig.suptitle('Comparison of Charges by Smoking Status',fontsize='xx-large');"
   ]
  },
  {
   "cell_type": "markdown",
   "id": "3eb0b458",
   "metadata": {},
   "source": [
    "### Q2. Are men more likely to smoke than women?\n",
    "\n",
    "- This is categorical data, whether or not a person smokes, of two groups, men and women. [2-sample Chi-Square test]"
   ]
  },
  {
   "cell_type": "markdown",
   "id": "5708f62e",
   "metadata": {},
   "source": [
    "#### 1. State the Null Hypothesis and Alternative Hypothesis\n",
    "\n",
    "**The null hypothesis is that the likelihood of men and women smoking is the same.**\n",
    "\n",
    "**The alternative hypothesis is that men are more likely to smoke than women.**"
   ]
  },
  {
   "cell_type": "markdown",
   "id": "ffdb03e4",
   "metadata": {},
   "source": [
    "#### 2. Select the correct test according to the data type and number of samples\n",
    "\n",
    "This is a comparison of two groups and the correct test is a 2-sample Chi-Square test.  This test will be run at an alpha level of 0.05."
   ]
  },
  {
   "cell_type": "markdown",
   "id": "cd4660b5",
   "metadata": {},
   "source": [
    "#### 3. Test the assumptions of your selected test.\n",
    "\n",
    "- There are two categorical variables (ordinal or nominal)\n",
    "The two categorical variables are 'sex' and 'smoker'.\n",
    "\n",
    "- The outcomes are independent\n",
    "We will work under the assumption that one person's smoking status is independent of another from the data.\n",
    "- **Both assumptions are met.**"
   ]
  },
  {
   "cell_type": "markdown",
   "id": "789b2345",
   "metadata": {},
   "source": [
    "#### 4. Execute the selected test, or the alternative test (if you do not meet the assumptions)"
   ]
  },
  {
   "cell_type": "code",
   "execution_count": 17,
   "id": "d4f5082f",
   "metadata": {},
   "outputs": [
    {
     "data": {
      "text/html": [
       "<div>\n",
       "<style scoped>\n",
       "    .dataframe tbody tr th:only-of-type {\n",
       "        vertical-align: middle;\n",
       "    }\n",
       "\n",
       "    .dataframe tbody tr th {\n",
       "        vertical-align: top;\n",
       "    }\n",
       "\n",
       "    .dataframe thead th {\n",
       "        text-align: right;\n",
       "    }\n",
       "</style>\n",
       "<table border=\"1\" class=\"dataframe\">\n",
       "  <thead>\n",
       "    <tr style=\"text-align: right;\">\n",
       "      <th>smoker</th>\n",
       "      <th>no</th>\n",
       "      <th>yes</th>\n",
       "    </tr>\n",
       "    <tr>\n",
       "      <th>sex</th>\n",
       "      <th></th>\n",
       "      <th></th>\n",
       "    </tr>\n",
       "  </thead>\n",
       "  <tbody>\n",
       "    <tr>\n",
       "      <th>female</th>\n",
       "      <td>547</td>\n",
       "      <td>115</td>\n",
       "    </tr>\n",
       "    <tr>\n",
       "      <th>male</th>\n",
       "      <td>517</td>\n",
       "      <td>159</td>\n",
       "    </tr>\n",
       "  </tbody>\n",
       "</table>\n",
       "</div>"
      ],
      "text/plain": [
       "smoker   no  yes\n",
       "sex             \n",
       "female  547  115\n",
       "male    517  159"
      ]
     },
     "execution_count": 17,
     "metadata": {},
     "output_type": "execute_result"
    }
   ],
   "source": [
    "# calculate the contingency table with pd.cross-tab\n",
    "table = pd.crosstab(df['sex'], df['smoker'])\n",
    "table"
   ]
  },
  {
   "cell_type": "code",
   "execution_count": 18,
   "id": "346fcb61",
   "metadata": {},
   "outputs": [],
   "source": [
    "# Run the Test and Save the Output\n",
    "result = stats.chi2_contingency(table)\n",
    "#this labels the results\n",
    "chi2, p, deg_free, expected_vals = result"
   ]
  },
  {
   "cell_type": "markdown",
   "id": "1b333c49",
   "metadata": {},
   "source": [
    "#### 5. Interpret your p-value and reject or fail to reject your null hypothesis"
   ]
  },
  {
   "cell_type": "code",
   "execution_count": 19,
   "id": "73103725",
   "metadata": {},
   "outputs": [
    {
     "name": "stdout",
     "output_type": "stream",
     "text": [
      "0.006548143503580696\n"
     ]
    },
    {
     "data": {
      "text/plain": [
       "True"
      ]
     },
     "execution_count": 19,
     "metadata": {},
     "output_type": "execute_result"
    }
   ],
   "source": [
    "print(p)\n",
    "p<.05"
   ]
  },
  {
   "cell_type": "markdown",
   "id": "594f1e4b",
   "metadata": {},
   "source": [
    "The p-value of 0.0065 is less than 0.05.  This means that we reject the null hypothesis and accept the alternate hypothesis and conclude that a person is more likely to smoke if they are a man than a woman.\n"
   ]
  },
  {
   "cell_type": "markdown",
   "id": "7274bb04",
   "metadata": {},
   "source": [
    "#### 6. Show a supporting visualization that helps display the result"
   ]
  },
  {
   "cell_type": "code",
   "execution_count": 20,
   "id": "59944d68",
   "metadata": {},
   "outputs": [
    {
     "data": {
      "image/png": "[encoded data removed]",
      "text/plain": [
       "<Figure size 640x480 with 1 Axes>"
      ]
     },
     "metadata": {},
     "output_type": "display_data"
    }
   ],
   "source": [
    "# side-by-side barplot comparing smoker status counts across sex\n",
    "\n",
    "ax = sns.countplot(data=df, x='sex',hue='smoker',)\n",
    "ax.set_title(\"Number of Smokers by Sex\");"
   ]
  },
  {
   "cell_type": "markdown",
   "id": "aaa02956",
   "metadata": {},
   "source": [
    "### Q3. Do different regions have different charges, on average?\n",
    "\n",
    "- This is numerical data, charges, of more than two groups, the regions. [ONE-way ANOVA test]"
   ]
  },
  {
   "cell_type": "markdown",
   "id": "aa0ddcbe",
   "metadata": {},
   "source": [
    "#### 1. State the Null Hypothesis and Alternative Hypothesis\n",
    "\n",
    "**The null hypothesis is that different regions all have the same charges on average.**\n",
    "\n",
    "**The alternative hypothesis is that there is a statistical difference in charges between different regions, on average.**"
   ]
  },
  {
   "cell_type": "markdown",
   "id": "5d10ed60",
   "metadata": {},
   "source": [
    "#### 2. Select the correct test according to the data type and number of samples\n",
    "\n",
    "This is a comparison of multiple groups over one variable, charges, and the correct test is a ONE-way ANOVA test."
   ]
  },
  {
   "cell_type": "markdown",
   "id": "2d4c3c42",
   "metadata": {},
   "source": [
    "#### 3. Test the assumptions of your selected test.\n",
    "\n",
    "- Normality\n",
    "- Equal variance\n",
    "- No significant outliers"
   ]
  },
  {
   "cell_type": "code",
   "execution_count": 21,
   "id": "8ba071c2",
   "metadata": {},
   "outputs": [
    {
     "data": {
      "text/plain": [
       "dict_keys(['southwest', 'southeast', 'northwest', 'northeast'])"
      ]
     },
     "execution_count": 21,
     "metadata": {},
     "output_type": "execute_result"
    }
   ],
   "source": [
    "## Create groups dictionary. There are 4 groups.\n",
    "groups = {}\n",
    "## Loop through all unique categories\n",
    "for i in df['region'].unique():\n",
    "    ## Get series for group and rename\n",
    "    data_regions = df.loc[df['region']==i,'charges'].copy()\n",
    "    \n",
    "    # save into the dictionary\n",
    "    groups[i] = data_regions\n",
    "groups.keys()"
   ]
  },
  {
   "cell_type": "markdown",
   "id": "5d216118",
   "metadata": {},
   "source": [
    "##### Check the normality assumption"
   ]
  },
  {
   "cell_type": "code",
   "execution_count": 22,
   "id": "34268be3",
   "metadata": {},
   "outputs": [
    {
     "data": {
      "text/html": [
       "<div>\n",
       "<style scoped>\n",
       "    .dataframe tbody tr th:only-of-type {\n",
       "        vertical-align: middle;\n",
       "    }\n",
       "\n",
       "    .dataframe tbody tr th {\n",
       "        vertical-align: top;\n",
       "    }\n",
       "\n",
       "    .dataframe thead th {\n",
       "        text-align: right;\n",
       "    }\n",
       "</style>\n",
       "<table border=\"1\" class=\"dataframe\">\n",
       "  <thead>\n",
       "    <tr style=\"text-align: right;\">\n",
       "      <th></th>\n",
       "      <th>n</th>\n",
       "      <th>p</th>\n",
       "      <th>test stat</th>\n",
       "    </tr>\n",
       "  </thead>\n",
       "  <tbody>\n",
       "    <tr>\n",
       "      <th>southwest</th>\n",
       "      <td>325.0</td>\n",
       "      <td>6.125298e-23</td>\n",
       "      <td>102.294059</td>\n",
       "    </tr>\n",
       "    <tr>\n",
       "      <th>southeast</th>\n",
       "      <td>364.0</td>\n",
       "      <td>4.953297e-15</td>\n",
       "      <td>65.877446</td>\n",
       "    </tr>\n",
       "    <tr>\n",
       "      <th>northwest</th>\n",
       "      <td>325.0</td>\n",
       "      <td>5.184209e-24</td>\n",
       "      <td>107.232850</td>\n",
       "    </tr>\n",
       "    <tr>\n",
       "      <th>northeast</th>\n",
       "      <td>324.0</td>\n",
       "      <td>1.455431e-19</td>\n",
       "      <td>86.747629</td>\n",
       "    </tr>\n",
       "  </tbody>\n",
       "</table>\n",
       "</div>"
      ],
      "text/plain": [
       "               n             p   test stat\n",
       "southwest  325.0  6.125298e-23  102.294059\n",
       "southeast  364.0  4.953297e-15   65.877446\n",
       "northwest  325.0  5.184209e-24  107.232850\n",
       "northeast  324.0  1.455431e-19   86.747629"
      ]
     },
     "execution_count": 22,
     "metadata": {},
     "output_type": "execute_result"
    }
   ],
   "source": [
    "## Running normal test on each group and confirming there are >20 in each group\n",
    "norm_results = {}\n",
    "for i, data in groups.items():\n",
    "    stat, p = stats.normaltest(data)\n",
    "    ## save the p val, test statistic, and the size of the group\n",
    "    norm_results[i] = {'n': len(data),\n",
    "                             'p':p,\n",
    "                             'test stat':stat,}\n",
    "## convert to a dataframe\n",
    "norm_results_df = pd.DataFrame(norm_results).T\n",
    "norm_results_df"
   ]
  },
  {
   "cell_type": "code",
   "execution_count": 23,
   "id": "5eba4672",
   "metadata": {},
   "outputs": [
    {
     "data": {
      "text/html": [
       "<div>\n",
       "<style scoped>\n",
       "    .dataframe tbody tr th:only-of-type {\n",
       "        vertical-align: middle;\n",
       "    }\n",
       "\n",
       "    .dataframe tbody tr th {\n",
       "        vertical-align: top;\n",
       "    }\n",
       "\n",
       "    .dataframe thead th {\n",
       "        text-align: right;\n",
       "    }\n",
       "</style>\n",
       "<table border=\"1\" class=\"dataframe\">\n",
       "  <thead>\n",
       "    <tr style=\"text-align: right;\">\n",
       "      <th></th>\n",
       "      <th>n</th>\n",
       "      <th>p</th>\n",
       "      <th>test stat</th>\n",
       "      <th>sig</th>\n",
       "    </tr>\n",
       "  </thead>\n",
       "  <tbody>\n",
       "    <tr>\n",
       "      <th>southwest</th>\n",
       "      <td>325.0</td>\n",
       "      <td>6.125298e-23</td>\n",
       "      <td>102.294059</td>\n",
       "      <td>True</td>\n",
       "    </tr>\n",
       "    <tr>\n",
       "      <th>southeast</th>\n",
       "      <td>364.0</td>\n",
       "      <td>4.953297e-15</td>\n",
       "      <td>65.877446</td>\n",
       "      <td>True</td>\n",
       "    </tr>\n",
       "    <tr>\n",
       "      <th>northwest</th>\n",
       "      <td>325.0</td>\n",
       "      <td>5.184209e-24</td>\n",
       "      <td>107.232850</td>\n",
       "      <td>True</td>\n",
       "    </tr>\n",
       "    <tr>\n",
       "      <th>northeast</th>\n",
       "      <td>324.0</td>\n",
       "      <td>1.455431e-19</td>\n",
       "      <td>86.747629</td>\n",
       "      <td>True</td>\n",
       "    </tr>\n",
       "  </tbody>\n",
       "</table>\n",
       "</div>"
      ],
      "text/plain": [
       "               n             p   test stat   sig\n",
       "southwest  325.0  6.125298e-23  102.294059  True\n",
       "southeast  364.0  4.953297e-15   65.877446  True\n",
       "northwest  325.0  5.184209e-24  107.232850  True\n",
       "northeast  324.0  1.455431e-19   86.747629  True"
      ]
     },
     "execution_count": 23,
     "metadata": {},
     "output_type": "execute_result"
    }
   ],
   "source": [
    "### checking sig with pandas \n",
    "norm_results_df['sig'] = norm_results_df['p'] < .05 \n",
    "norm_results_df"
   ]
  },
  {
   "cell_type": "markdown",
   "id": "ab29f238",
   "metadata": {},
   "source": [
    "We have 4 groups and may ignore the normality assumption with each group at least of size 15."
   ]
  },
  {
   "cell_type": "markdown",
   "id": "9be408fa",
   "metadata": {},
   "source": [
    "##### Check the Equal Variance Assumption"
   ]
  },
  {
   "cell_type": "code",
   "execution_count": 24,
   "id": "aaa06ca8",
   "metadata": {},
   "outputs": [
    {
     "data": {
      "text/plain": [
       "LeveneResult(statistic=5.559966758410606, pvalue=0.0008610590250786703)"
      ]
     },
     "execution_count": 24,
     "metadata": {},
     "output_type": "execute_result"
    }
   ],
   "source": [
    "# with the * operator for the Levene Test\n",
    "stats.levene(*groups.values())"
   ]
  },
  {
   "cell_type": "markdown",
   "id": "21446825",
   "metadata": {},
   "source": [
    "This Levene Test p-value of 0.00086 is much smaller than 0.05, and the Equal Variance assumption is not met.  **We will run the nonparametric test instead, in this case it is the Kruskal-Wallis Test.**"
   ]
  },
  {
   "cell_type": "markdown",
   "id": "4f41d70d",
   "metadata": {},
   "source": [
    "#### 4. Execute the selected test, or the alternative test (if you do not meet the assumptions)\n",
    "\n",
    "Because the Equal Variance Assumption was not met the non-parametric Kruskal-Wallis Test will be run instead of the One-Way ANOVA test."
   ]
  },
  {
   "cell_type": "code",
   "execution_count": 25,
   "id": "43cf834e",
   "metadata": {},
   "outputs": [
    {
     "data": {
      "text/plain": [
       "KruskalResult(statistic=4.734181215658743, pvalue=0.19232908072121002)"
      ]
     },
     "execution_count": 25,
     "metadata": {},
     "output_type": "execute_result"
    }
   ],
   "source": [
    "# run the Kruskal-Wallis test\n",
    "result = stats.kruskal( *groups.values())\n",
    "result"
   ]
  },
  {
   "cell_type": "markdown",
   "id": "495f6805",
   "metadata": {},
   "source": [
    "#### 5. Interpret your p-value and reject or fail to reject your null hypothesis\n",
    "\n",
    "With a p-value of 0.19 that is not less than alpha level 0.05 **we fail to reject the null hypothesis.** We fail to reject that the charges are the same across regions. We lack statistically significant evidence that there is a difference in charges across regions."
   ]
  },
  {
   "cell_type": "markdown",
   "id": "3214a6e7",
   "metadata": {},
   "source": [
    "#### 6. Show a supporting visualization that helps display the result"
   ]
  },
  {
   "cell_type": "code",
   "execution_count": 26,
   "id": "2ac7294f",
   "metadata": {},
   "outputs": [
    {
     "data": {
      "image/png": "[encoded data removed]",
      "text/plain": [
       "<Figure size 640x480 with 1 Axes>"
      ]
     },
     "metadata": {},
     "output_type": "display_data"
    }
   ],
   "source": [
    "# barplot of average charges across regions\n",
    "\n",
    "sns.barplot(data=df, x='region',y='charges');"
   ]
  }
 ],
 "metadata": {
  "kernelspec": {
   "display_name": "Python (dojo-env)",
   "language": "python",
   "name": "dojo-env"
  },
  "language_info": {
   "codemirror_mode": {
    "name": "ipython",
    "version": 3
   },
   "file_extension": ".py",
   "mimetype": "text/x-python",
   "name": "python",
   "nbconvert_exporter": "python",
   "pygments_lexer": "ipython3",
   "version": "3.9.15"
  },
  "toc": {
   "base_numbering": 1,
   "nav_menu": {},
   "number_sections": false,
   "sideBar": true,
   "skip_h1_title": false,
   "title_cell": "Table of Contents",
   "title_sidebar": "Contents",
   "toc_cell": false,
   "toc_position": {},
   "toc_section_display": true,
   "toc_window_display": false
  }
 },
 "nbformat": 4,
 "nbformat_minor": 5
}
